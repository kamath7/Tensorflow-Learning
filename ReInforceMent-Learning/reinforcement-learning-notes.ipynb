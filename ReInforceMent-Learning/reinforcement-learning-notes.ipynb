{
 "cells": [
  {
   "cell_type": "markdown",
   "metadata": {},
   "source": [
    "## Reinforcement Learning\n",
    "\n",
    "Allows machines and software agents to automatically determine ideal behavior within specific context in order to maximise performance\n",
    "\n",
    "Many different types of algos that fall under reinforcement learning. Not all come under TF\n",
    "\n",
    "Four main things\n",
    "a) Agent b) Environment c) Action d) Reward\n",
    "\n",
    "Agent - Program or bot, can receive inputs based off environment, performs actions\n",
    "Environment - Actual setting agent is interacting with, often game in examples. Need to represent environment in a way agent can understand\n",
    "\n",
    "Action - Actual interaction agent will perform on environment, moving in environ, choosing next move etc\n",
    "Reward - Metric that allow agent to understand whether or not previous actions helped in achieving the goal\n",
    "\n",
    "OpenAI - Discovering and enacting path to safe artificial general intelligence"
   ]
  }
 ],
 "metadata": {
  "kernelspec": {
   "display_name": "Python 3",
   "language": "python",
   "name": "python3"
  },
  "language_info": {
   "codemirror_mode": {
    "name": "ipython",
    "version": 3
   },
   "file_extension": ".py",
   "mimetype": "text/x-python",
   "name": "python",
   "nbconvert_exporter": "python",
   "pygments_lexer": "ipython3",
   "version": "3.7.2"
  }
 },
 "nbformat": 4,
 "nbformat_minor": 2
}
