{
 "cells": [
  {
   "cell_type": "code",
   "execution_count": 1,
   "metadata": {},
   "outputs": [],
   "source": [
    "import tensorflow as tf"
   ]
  },
  {
   "cell_type": "code",
   "execution_count": 2,
   "metadata": {},
   "outputs": [
    {
     "data": {
      "text/plain": [
       "'1.15.3'"
      ]
     },
     "execution_count": 2,
     "metadata": {},
     "output_type": "execute_result"
    }
   ],
   "source": [
    "tf.__version__"
   ]
  },
  {
   "cell_type": "code",
   "execution_count": 3,
   "metadata": {},
   "outputs": [],
   "source": [
    "lalle = tf.constant('Hello World!')\n",
    "sess = tf.Session()"
   ]
  },
  {
   "cell_type": "code",
   "execution_count": 4,
   "metadata": {},
   "outputs": [
    {
     "name": "stdout",
     "output_type": "stream",
     "text": [
      "b'Hello World!'\n"
     ]
    }
   ],
   "source": [
    "print(sess.run(lalle))"
   ]
  },
  {
   "cell_type": "markdown",
   "metadata": {},
   "source": [
    "## ML Overview notes\n",
    "\n",
    "ML Techinques learn iteratively learn from data. THey can find insights in data. \n",
    "\n",
    "Types of ML Algorithms - Supervised Learning, Unsupervised learning, Reinforcement learning\n",
    "\n",
    "\n",
    "### Supervised Learning\n",
    "a) Uses labeled data to predict label given some features\n",
    "b) If label is  continous -> Regression, Categorical -> Classification\n",
    "Ex - Classifcation - Features -> Heights and Weights ; Label -> Gender; Task -  Given height and weight predict the gender\n",
    "Ex - Regression - Features -> Sq footage, Rooms ; Labels-> House price. ;Task - Given house's size and number of rooms predict selling price\n",
    "\n",
    "Supervised learning has model trained on historical data that is already labeled\n",
    "Once model is trained, can be used on new data where only features are known to attempt prediction\n",
    "\n",
    "### Unsupervised Learning\n",
    "\n",
    "a) Clustering - Features -> Heights and weights for breeds of dogs; Label -> No label for unsupervised; Task -> Cluster together the data into similar groups. It is then to interpret what the cluster mean\n",
    "\n",
    "### Reinforcement Learning\n",
    "\n",
    "a) Reinforcement learning works through trail and error which actions yield the greatest awards\n",
    "b) Components : Agent -Learning/Decision Maker, Environment-What agent interacts with, Actions - What the agent can do\n",
    "\n",
    "The agent chooses actions which maximise some specified reward metric for a given time. \n",
    "Learning best policy with environment and responding with best actions\n",
    "\n",
    "### ML Process Overview\n",
    "\n",
    "Data Acquistion -> Data Cleaning (Normalizing Data, Scaling) -> Train_Test-split -> Train model (Fiiting the model on training data) -> Evaluate Model (Adjust model parameters based on evaluation)-> Deploy Model \n",
    "\n",
    "### Evaluating Performance\n",
    "\n",
    "Supervised Learning - Classification Evaluation. \n",
    "a) Accuracy, RecallpRecision\n",
    "b) Accuracy - Correctly classified divided by Total Samples\n",
    "\n",
    "Supervised Learning - Regression Eval\n",
    "a) MAE, MSE, RMSE - On average how far off are you from the correct continous value\n",
    "\n",
    "Unsupervised Learning - Evaluation\n",
    "\n",
    "a) Cluster homogenity, Rand Index. Much harder to evaulate\n",
    "\n",
    "Reinforcement Learning - Evaluation \n",
    "a) How well model performs the task its assigned. \n",
    "\n"
   ]
  },
  {
   "cell_type": "code",
   "execution_count": null,
   "metadata": {},
   "outputs": [],
   "source": []
  }
 ],
 "metadata": {
  "kernelspec": {
   "display_name": "Python 3",
   "language": "python",
   "name": "python3"
  },
  "language_info": {
   "codemirror_mode": {
    "name": "ipython",
    "version": 3
   },
   "file_extension": ".py",
   "mimetype": "text/x-python",
   "name": "python",
   "nbconvert_exporter": "python",
   "pygments_lexer": "ipython3",
   "version": "3.7.2"
  }
 },
 "nbformat": 4,
 "nbformat_minor": 2
}
