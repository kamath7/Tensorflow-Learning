{
 "cells": [
  {
   "cell_type": "code",
   "execution_count": 1,
   "metadata": {},
   "outputs": [],
   "source": [
    "from sklearn.datasets import load_wine"
   ]
  },
  {
   "cell_type": "code",
   "execution_count": 2,
   "metadata": {},
   "outputs": [],
   "source": [
    "wine_data = load_wine()"
   ]
  },
  {
   "cell_type": "code",
   "execution_count": 3,
   "metadata": {},
   "outputs": [
    {
     "data": {
      "text/plain": [
       "dict_keys(['data', 'target', 'frame', 'target_names', 'DESCR', 'feature_names'])"
      ]
     },
     "execution_count": 3,
     "metadata": {},
     "output_type": "execute_result"
    }
   ],
   "source": [
    "wine_data.keys()"
   ]
  },
  {
   "cell_type": "code",
   "execution_count": 4,
   "metadata": {},
   "outputs": [
    {
     "name": "stdout",
     "output_type": "stream",
     "text": [
      ".. _wine_dataset:\n",
      "\n",
      "Wine recognition dataset\n",
      "------------------------\n",
      "\n",
      "**Data Set Characteristics:**\n",
      "\n",
      "    :Number of Instances: 178 (50 in each of three classes)\n",
      "    :Number of Attributes: 13 numeric, predictive attributes and the class\n",
      "    :Attribute Information:\n",
      " \t\t- Alcohol\n",
      " \t\t- Malic acid\n",
      " \t\t- Ash\n",
      "\t\t- Alcalinity of ash  \n",
      " \t\t- Magnesium\n",
      "\t\t- Total phenols\n",
      " \t\t- Flavanoids\n",
      " \t\t- Nonflavanoid phenols\n",
      " \t\t- Proanthocyanins\n",
      "\t\t- Color intensity\n",
      " \t\t- Hue\n",
      " \t\t- OD280/OD315 of diluted wines\n",
      " \t\t- Proline\n",
      "\n",
      "    - class:\n",
      "            - class_0\n",
      "            - class_1\n",
      "            - class_2\n",
      "\t\t\n",
      "    :Summary Statistics:\n",
      "    \n",
      "    ============================= ==== ===== ======= =====\n",
      "                                   Min   Max   Mean     SD\n",
      "    ============================= ==== ===== ======= =====\n",
      "    Alcohol:                      11.0  14.8    13.0   0.8\n",
      "    Malic Acid:                   0.74  5.80    2.34  1.12\n",
      "    Ash:                          1.36  3.23    2.36  0.27\n",
      "    Alcalinity of Ash:            10.6  30.0    19.5   3.3\n",
      "    Magnesium:                    70.0 162.0    99.7  14.3\n",
      "    Total Phenols:                0.98  3.88    2.29  0.63\n",
      "    Flavanoids:                   0.34  5.08    2.03  1.00\n",
      "    Nonflavanoid Phenols:         0.13  0.66    0.36  0.12\n",
      "    Proanthocyanins:              0.41  3.58    1.59  0.57\n",
      "    Colour Intensity:              1.3  13.0     5.1   2.3\n",
      "    Hue:                          0.48  1.71    0.96  0.23\n",
      "    OD280/OD315 of diluted wines: 1.27  4.00    2.61  0.71\n",
      "    Proline:                       278  1680     746   315\n",
      "    ============================= ==== ===== ======= =====\n",
      "\n",
      "    :Missing Attribute Values: None\n",
      "    :Class Distribution: class_0 (59), class_1 (71), class_2 (48)\n",
      "    :Creator: R.A. Fisher\n",
      "    :Donor: Michael Marshall (MARSHALL%PLU@io.arc.nasa.gov)\n",
      "    :Date: July, 1988\n",
      "\n",
      "This is a copy of UCI ML Wine recognition datasets.\n",
      "https://archive.ics.uci.edu/ml/machine-learning-databases/wine/wine.data\n",
      "\n",
      "The data is the results of a chemical analysis of wines grown in the same\n",
      "region in Italy by three different cultivators. There are thirteen different\n",
      "measurements taken for different constituents found in the three types of\n",
      "wine.\n",
      "\n",
      "Original Owners: \n",
      "\n",
      "Forina, M. et al, PARVUS - \n",
      "An Extendible Package for Data Exploration, Classification and Correlation. \n",
      "Institute of Pharmaceutical and Food Analysis and Technologies,\n",
      "Via Brigata Salerno, 16147 Genoa, Italy.\n",
      "\n",
      "Citation:\n",
      "\n",
      "Lichman, M. (2013). UCI Machine Learning Repository\n",
      "[https://archive.ics.uci.edu/ml]. Irvine, CA: University of California,\n",
      "School of Information and Computer Science. \n",
      "\n",
      ".. topic:: References\n",
      "\n",
      "  (1) S. Aeberhard, D. Coomans and O. de Vel, \n",
      "  Comparison of Classifiers in High Dimensional Settings, \n",
      "  Tech. Rep. no. 92-02, (1992), Dept. of Computer Science and Dept. of  \n",
      "  Mathematics and Statistics, James Cook University of North Queensland. \n",
      "  (Also submitted to Technometrics). \n",
      "\n",
      "  The data was used with many others for comparing various \n",
      "  classifiers. The classes are separable, though only RDA \n",
      "  has achieved 100% correct classification. \n",
      "  (RDA : 100%, QDA 99.4%, LDA 98.9%, 1NN 96.1% (z-transformed data)) \n",
      "  (All results using the leave-one-out technique) \n",
      "\n",
      "  (2) S. Aeberhard, D. Coomans and O. de Vel, \n",
      "  \"THE CLASSIFICATION PERFORMANCE OF RDA\" \n",
      "  Tech. Rep. no. 92-01, (1992), Dept. of Computer Science and Dept. of \n",
      "  Mathematics and Statistics, James Cook University of North Queensland. \n",
      "  (Also submitted to Journal of Chemometrics).\n",
      "\n"
     ]
    }
   ],
   "source": [
    "print(wine_data['DESCR'])"
   ]
  },
  {
   "cell_type": "code",
   "execution_count": 6,
   "metadata": {},
   "outputs": [
    {
     "data": {
      "text/plain": [
       "array([[1.423e+01, 1.710e+00, 2.430e+00, ..., 1.040e+00, 3.920e+00,\n",
       "        1.065e+03],\n",
       "       [1.320e+01, 1.780e+00, 2.140e+00, ..., 1.050e+00, 3.400e+00,\n",
       "        1.050e+03],\n",
       "       [1.316e+01, 2.360e+00, 2.670e+00, ..., 1.030e+00, 3.170e+00,\n",
       "        1.185e+03],\n",
       "       ...,\n",
       "       [1.327e+01, 4.280e+00, 2.260e+00, ..., 5.900e-01, 1.560e+00,\n",
       "        8.350e+02],\n",
       "       [1.317e+01, 2.590e+00, 2.370e+00, ..., 6.000e-01, 1.620e+00,\n",
       "        8.400e+02],\n",
       "       [1.413e+01, 4.100e+00, 2.740e+00, ..., 6.100e-01, 1.600e+00,\n",
       "        5.600e+02]])"
      ]
     },
     "execution_count": 6,
     "metadata": {},
     "output_type": "execute_result"
    }
   ],
   "source": [
    "feat_data = wine_data['data']\n",
    "labels = wine_data['target']\n",
    "feat_data"
   ]
  },
  {
   "cell_type": "code",
   "execution_count": 7,
   "metadata": {},
   "outputs": [],
   "source": [
    "from sklearn.model_selection import train_test_split\n",
    "X_train, X_test, y_train, y_test = train_test_split(feat_data,labels, test_size=0.3, random_state=101)"
   ]
  },
  {
   "cell_type": "code",
   "execution_count": 8,
   "metadata": {},
   "outputs": [],
   "source": [
    "from sklearn.preprocessing import MinMaxScaler\n",
    "scaler = MinMaxScaler()\n",
    "scaled_X_train = scaler.fit_transform(X_train)\n",
    "scaled_X_test = scaler.transform(X_test)"
   ]
  },
  {
   "cell_type": "code",
   "execution_count": 9,
   "metadata": {},
   "outputs": [],
   "source": [
    "import tensorflow as tf"
   ]
  },
  {
   "cell_type": "code",
   "execution_count": 10,
   "metadata": {},
   "outputs": [],
   "source": [
    "#Using Keras\n",
    "from tensorflow.contrib.keras import models"
   ]
  },
  {
   "cell_type": "code",
   "execution_count": 11,
   "metadata": {},
   "outputs": [],
   "source": [
    "dnn_keras_model = models.Sequential()"
   ]
  },
  {
   "cell_type": "code",
   "execution_count": 12,
   "metadata": {},
   "outputs": [],
   "source": [
    "from tensorflow.contrib.keras import layers"
   ]
  },
  {
   "cell_type": "code",
   "execution_count": 13,
   "metadata": {},
   "outputs": [
    {
     "name": "stdout",
     "output_type": "stream",
     "text": [
      "WARNING:tensorflow:From /Library/Frameworks/Python.framework/Versions/3.7/lib/python3.7/site-packages/tensorflow_core/python/ops/resource_variable_ops.py:1630: calling BaseResourceVariable.__init__ (from tensorflow.python.ops.resource_variable_ops) with constraint is deprecated and will be removed in a future version.\n",
      "Instructions for updating:\n",
      "If using Keras pass *_constraint arguments to layers.\n"
     ]
    }
   ],
   "source": [
    "dnn_keras_model.add(layers.Dense(units=13,input_dim=13,activation='relu'))"
   ]
  },
  {
   "cell_type": "code",
   "execution_count": 15,
   "metadata": {},
   "outputs": [],
   "source": [
    "dnn_keras_model.add(layers.Dense(units=13, activation='relu'))\n",
    "dnn_keras_model.add(layers.Dense(units=13, activation='relu'))"
   ]
  },
  {
   "cell_type": "code",
   "execution_count": 16,
   "metadata": {},
   "outputs": [],
   "source": [
    "dnn_keras_model.add(layers.Dense(units=3, activation='softmax'))"
   ]
  },
  {
   "cell_type": "code",
   "execution_count": 17,
   "metadata": {},
   "outputs": [],
   "source": [
    "from tensorflow.contrib.keras import losses, optimizers, metrics, activations"
   ]
  },
  {
   "cell_type": "code",
   "execution_count": 19,
   "metadata": {},
   "outputs": [],
   "source": [
    "dnn_keras_model.compile(optimizer='adam',loss='sparse_categorical_crossentropy',metrics=['accuracy'])"
   ]
  },
  {
   "cell_type": "code",
   "execution_count": 20,
   "metadata": {},
   "outputs": [
    {
     "name": "stdout",
     "output_type": "stream",
     "text": [
      "Train on 124 samples\n",
      "Epoch 1/50\n",
      "124/124 [==============================] - 0s 2ms/sample - loss: 1.1286 - acc: 0.2258\n",
      "Epoch 2/50\n",
      "124/124 [==============================] - 0s 175us/sample - loss: 1.1178 - acc: 0.3145\n",
      "Epoch 3/50\n",
      "124/124 [==============================] - 0s 278us/sample - loss: 1.1079 - acc: 0.3226\n",
      "Epoch 4/50\n",
      "124/124 [==============================] - 0s 150us/sample - loss: 1.1009 - acc: 0.3226\n",
      "Epoch 5/50\n",
      "124/124 [==============================] - 0s 233us/sample - loss: 1.0945 - acc: 0.3548\n",
      "Epoch 6/50\n",
      "124/124 [==============================] - 0s 282us/sample - loss: 1.0903 - acc: 0.4516\n",
      "Epoch 7/50\n",
      "124/124 [==============================] - 0s 225us/sample - loss: 1.0853 - acc: 0.5403\n",
      "Epoch 8/50\n",
      "124/124 [==============================] - 0s 247us/sample - loss: 1.0791 - acc: 0.6129\n",
      "Epoch 9/50\n",
      "124/124 [==============================] - 0s 313us/sample - loss: 1.0697 - acc: 0.6290\n",
      "Epoch 10/50\n",
      "124/124 [==============================] - 0s 228us/sample - loss: 1.0582 - acc: 0.6129\n",
      "Epoch 11/50\n",
      "124/124 [==============================] - 0s 231us/sample - loss: 1.0425 - acc: 0.6048\n",
      "Epoch 12/50\n",
      "124/124 [==============================] - 0s 272us/sample - loss: 1.0230 - acc: 0.6048\n",
      "Epoch 13/50\n",
      "124/124 [==============================] - 0s 212us/sample - loss: 1.0001 - acc: 0.5887\n",
      "Epoch 14/50\n",
      "124/124 [==============================] - 0s 190us/sample - loss: 0.9763 - acc: 0.5726\n",
      "Epoch 15/50\n",
      "124/124 [==============================] - 0s 209us/sample - loss: 0.9512 - acc: 0.5484\n",
      "Epoch 16/50\n",
      "124/124 [==============================] - 0s 283us/sample - loss: 0.9259 - acc: 0.5484\n",
      "Epoch 17/50\n",
      "124/124 [==============================] - 0s 184us/sample - loss: 0.9005 - acc: 0.5484\n",
      "Epoch 18/50\n",
      "124/124 [==============================] - 0s 308us/sample - loss: 0.8738 - acc: 0.5565\n",
      "Epoch 19/50\n",
      "124/124 [==============================] - 0s 315us/sample - loss: 0.8489 - acc: 0.5565\n",
      "Epoch 20/50\n",
      "124/124 [==============================] - 0s 349us/sample - loss: 0.8236 - acc: 0.5806\n",
      "Epoch 21/50\n",
      "124/124 [==============================] - 0s 406us/sample - loss: 0.7988 - acc: 0.6290\n",
      "Epoch 22/50\n",
      "124/124 [==============================] - 0s 728us/sample - loss: 0.7749 - acc: 0.6452\n",
      "Epoch 23/50\n",
      "124/124 [==============================] - 0s 239us/sample - loss: 0.7512 - acc: 0.6532\n",
      "Epoch 24/50\n",
      "124/124 [==============================] - 0s 331us/sample - loss: 0.7278 - acc: 0.6613\n",
      "Epoch 25/50\n",
      "124/124 [==============================] - 0s 270us/sample - loss: 0.7041 - acc: 0.6694\n",
      "Epoch 26/50\n",
      "124/124 [==============================] - 0s 192us/sample - loss: 0.6816 - acc: 0.6774\n",
      "Epoch 27/50\n",
      "124/124 [==============================] - 0s 256us/sample - loss: 0.6613 - acc: 0.6774\n",
      "Epoch 28/50\n",
      "124/124 [==============================] - 0s 159us/sample - loss: 0.6392 - acc: 0.6774\n",
      "Epoch 29/50\n",
      "124/124 [==============================] - 0s 218us/sample - loss: 0.6196 - acc: 0.6935\n",
      "Epoch 30/50\n",
      "124/124 [==============================] - 0s 208us/sample - loss: 0.6014 - acc: 0.6935\n",
      "Epoch 31/50\n",
      "124/124 [==============================] - 0s 261us/sample - loss: 0.5842 - acc: 0.6935\n",
      "Epoch 32/50\n",
      "124/124 [==============================] - 0s 308us/sample - loss: 0.5674 - acc: 0.7016\n",
      "Epoch 33/50\n",
      "124/124 [==============================] - 0s 334us/sample - loss: 0.5508 - acc: 0.7016\n",
      "Epoch 34/50\n",
      "124/124 [==============================] - 0s 351us/sample - loss: 0.5342 - acc: 0.7016\n",
      "Epoch 35/50\n",
      "124/124 [==============================] - 0s 263us/sample - loss: 0.5159 - acc: 0.7097\n",
      "Epoch 36/50\n",
      "124/124 [==============================] - 0s 465us/sample - loss: 0.4969 - acc: 0.7097\n",
      "Epoch 37/50\n",
      "124/124 [==============================] - 0s 281us/sample - loss: 0.4763 - acc: 0.7177\n",
      "Epoch 38/50\n",
      "124/124 [==============================] - 0s 312us/sample - loss: 0.4530 - acc: 0.7177\n",
      "Epoch 39/50\n",
      "124/124 [==============================] - 0s 323us/sample - loss: 0.4308 - acc: 0.7500\n",
      "Epoch 40/50\n",
      "124/124 [==============================] - 0s 398us/sample - loss: 0.4036 - acc: 0.8226\n",
      "Epoch 41/50\n",
      "124/124 [==============================] - 0s 223us/sample - loss: 0.3742 - acc: 0.8871\n",
      "Epoch 42/50\n",
      "124/124 [==============================] - 0s 241us/sample - loss: 0.3451 - acc: 0.9435\n",
      "Epoch 43/50\n",
      "124/124 [==============================] - 0s 343us/sample - loss: 0.3146 - acc: 0.9516\n",
      "Epoch 44/50\n",
      "124/124 [==============================] - 0s 207us/sample - loss: 0.2859 - acc: 0.9677\n",
      "Epoch 45/50\n",
      "124/124 [==============================] - 0s 324us/sample - loss: 0.2570 - acc: 0.9839\n",
      "Epoch 46/50\n",
      "124/124 [==============================] - 0s 541us/sample - loss: 0.2295 - acc: 0.9839\n",
      "Epoch 47/50\n",
      "124/124 [==============================] - 0s 393us/sample - loss: 0.2050 - acc: 0.9839\n",
      "Epoch 48/50\n",
      "124/124 [==============================] - 0s 383us/sample - loss: 0.1816 - acc: 0.9839\n",
      "Epoch 49/50\n",
      "124/124 [==============================] - 0s 215us/sample - loss: 0.1628 - acc: 0.9758\n",
      "Epoch 50/50\n",
      "124/124 [==============================] - 0s 395us/sample - loss: 0.1463 - acc: 0.9839\n"
     ]
    },
    {
     "data": {
      "text/plain": [
       "<tensorflow.python.keras.callbacks.History at 0x1413f6128>"
      ]
     },
     "execution_count": 20,
     "metadata": {},
     "output_type": "execute_result"
    }
   ],
   "source": [
    "dnn_keras_model.fit(scaled_X_train,y_train,epochs=50)"
   ]
  },
  {
   "cell_type": "code",
   "execution_count": 21,
   "metadata": {},
   "outputs": [],
   "source": [
    "predictions = dnn_keras_model.predict_classes(scaled_X_test)"
   ]
  },
  {
   "cell_type": "code",
   "execution_count": 22,
   "metadata": {},
   "outputs": [],
   "source": [
    "from sklearn.metrics import classification_report"
   ]
  },
  {
   "cell_type": "code",
   "execution_count": 23,
   "metadata": {},
   "outputs": [
    {
     "name": "stdout",
     "output_type": "stream",
     "text": [
      "              precision    recall  f1-score   support\n",
      "\n",
      "           0       1.00      1.00      1.00        19\n",
      "           1       1.00      0.96      0.98        23\n",
      "           2       0.92      1.00      0.96        12\n",
      "\n",
      "    accuracy                           0.98        54\n",
      "   macro avg       0.97      0.99      0.98        54\n",
      "weighted avg       0.98      0.98      0.98        54\n",
      "\n"
     ]
    }
   ],
   "source": [
    "print(classification_report(predictions,y_test))"
   ]
  },
  {
   "cell_type": "markdown",
   "metadata": {},
   "source": [
    "## Learning material - https://keras.io/"
   ]
  },
  {
   "cell_type": "code",
   "execution_count": null,
   "metadata": {},
   "outputs": [],
   "source": []
  }
 ],
 "metadata": {
  "kernelspec": {
   "display_name": "Python 3",
   "language": "python",
   "name": "python3"
  },
  "language_info": {
   "codemirror_mode": {
    "name": "ipython",
    "version": 3
   },
   "file_extension": ".py",
   "mimetype": "text/x-python",
   "name": "python",
   "nbconvert_exporter": "python",
   "pygments_lexer": "ipython3",
   "version": "3.7.2"
  }
 },
 "nbformat": 4,
 "nbformat_minor": 2
}
