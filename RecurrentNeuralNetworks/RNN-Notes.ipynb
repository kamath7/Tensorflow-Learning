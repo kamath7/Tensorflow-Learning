{
 "cells": [
  {
   "cell_type": "markdown",
   "metadata": {},
   "source": [
    "### RNN\n",
    "\n",
    " Example of sequences -> Time Series Data (sales), Sentences, Audio, Car Trajectories, Music\n",
    " \n",
    " Normal Neuron - Takes input , aggregates it, activation function applied (Sigmoid) and Output produced\n",
    " Recurrent Neuron - Sends output back to itself. Output acts as input of the neuron over a time t\n",
    " Cells that are function of inputs from previous time steps known as memory cells. RNN also flexible in their inputs and outputs for both sequences and single vector values\n",
    " \n",
    " \n",
    " Different types\n",
    " a) Sequence to Sequence\n",
    " b) Sequence to Vector - Ex. Sentiment scores (Feed in words -> Get positive/negative sentiment)\n",
    " c) Vector to sequence - Ex. Single Image passed, sequence of words (Caption) generated\n",
    " "
   ]
  },
  {
   "cell_type": "markdown",
   "metadata": {},
   "source": [
    "# Vanishing Gradients\n",
    "\n",
    "a)backpropogation goes backwards from output to input layer propagating error gradient\n",
    "b) deeper networks issues can aris from backpropagation vanishing and exploding gradients\n",
    " \n",
    " As going back to lower layers gradients cna get smaller causing wieghts to never change at lower level. Opposite can also occur gradients explode on way back\n",
    " LSTM and GRU used to fix\n",
    " \n",
    " Using Relu. Relu doesn't saturate positive values. \n",
    " Also used Exponential linear units\n",
    " Batch normalisation can also be used\n",
    " \n",
    " ### Learning material -  https://www.superdatascience.com/blogs/recurrent-neural-networks-rnn-the-vanishing-gradient-problem"
   ]
  },
  {
   "cell_type": "markdown",
   "metadata": {},
   "source": [
    "# LSTM and GRU\n",
    "\n",
    "Long Short Term Memory\n",
    "\n",
    "LSTM cell created to help RNN issues\n",
    "Forget gates layer? - What information to throw away from cell state. Linear transformation and sigmoid function applied\n",
    "What new cell information needs to be stored in the cell (Hyperbolic Tangent layer)\n",
    "**New Kennedy values?**\n",
    "\n",
    "Gated Recurrent Unit\n",
    "\n",
    "Simplifies by forget and input gates into update gate. Merges cell state and hidden state. \n",
    "\n",
    "### Learning Material - https://colah.github.io/posts/2015-08-Understanding-LSTMs/ , https://towardsdatascience.com/illustrated-guide-to-lstms-and-gru-s-a-step-by-step-explanation-44e9eb85bf21"
   ]
  }
 ],
 "metadata": {
  "kernelspec": {
   "display_name": "Python 3",
   "language": "python",
   "name": "python3"
  },
  "language_info": {
   "codemirror_mode": {
    "name": "ipython",
    "version": 3
   },
   "file_extension": ".py",
   "mimetype": "text/x-python",
   "name": "python",
   "nbconvert_exporter": "python",
   "pygments_lexer": "ipython3",
   "version": "3.7.2"
  }
 },
 "nbformat": 4,
 "nbformat_minor": 2
}
