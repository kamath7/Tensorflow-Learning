{
 "cells": [
  {
   "cell_type": "markdown",
   "metadata": {},
   "source": [
    "## GAN - Notes\n",
    "\n",
    "Generate new samples similar to the data they were trained on.E.x Creating new faces\n",
    "\n",
    "Two networks - Generator and Discriminator\n",
    "\n",
    "TF Layers API to be used\n",
    "\n",
    "Not simple is the tuning of hyperparameters and training time involved\n",
    "\n",
    "Sometimes discriminator overpowers generator. Fixing can be done by letting output being unscaled \n",
    "\n",
    "Mode Collapse (Another problem). Fixing is by adjusting training rate or changing layers of discriminator \n",
    "\n",
    "### LEarning Material - https://machinelearningmastery.com/what-are-generative-adversarial-networks-gans/"
   ]
  },
  {
   "cell_type": "code",
   "execution_count": null,
   "metadata": {},
   "outputs": [],
   "source": []
  }
 ],
 "metadata": {
  "kernelspec": {
   "display_name": "Python 3",
   "language": "python",
   "name": "python3"
  },
  "language_info": {
   "codemirror_mode": {
    "name": "ipython",
    "version": 3
   },
   "file_extension": ".py",
   "mimetype": "text/x-python",
   "name": "python",
   "nbconvert_exporter": "python",
   "pygments_lexer": "ipython3",
   "version": "3.7.2"
  }
 },
 "nbformat": 4,
 "nbformat_minor": 2
}
